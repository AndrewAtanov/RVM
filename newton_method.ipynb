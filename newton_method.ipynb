{
 "cells": [
  {
   "cell_type": "code",
   "execution_count": 4,
   "metadata": {
    "collapsed": true
   },
   "outputs": [],
   "source": [
    "import numpy as np\n",
    "from scipy.special import expit\n",
    "import matplotlib.pyplot as plt\n",
    "from mpl_toolkits.mplot3d import axes3d, Axes3D\n",
    "from matplotlib import cm\n",
    "from matplotlib.ticker import LinearLocator, FormatStrFormatter\n",
    "\n",
    "%matplotlib inline"
   ]
  },
  {
   "cell_type": "code",
   "execution_count": 5,
   "metadata": {
    "collapsed": true
   },
   "outputs": [],
   "source": [
    "def f(x):\n",
    "    return x[0]**2 - x[0] * x[1] + x[1]**2 + np.sin(x[0])"
   ]
  },
  {
   "cell_type": "code",
   "execution_count": 6,
   "metadata": {
    "collapsed": true
   },
   "outputs": [],
   "source": [
    "x_cur = np.array([1156151, -10000])\n",
    "x_last = np.array([0, 0])"
   ]
  },
  {
   "cell_type": "code",
   "execution_count": 7,
   "metadata": {
    "collapsed": false
   },
   "outputs": [
    {
     "name": "stdout",
     "output_type": "stream",
     "text": [
      "1.3483466448e+12\n",
      "1.2838339885e+12\n",
      "190947388665.0\n",
      "560809340568.0\n",
      "25958831011.9\n",
      "1206308750.02\n",
      "83232601.8384\n",
      "8628838.17889\n",
      "1114419.77157\n",
      "634.774112811\n",
      "572.667154156\n",
      "245.297448853\n",
      "177.760474155\n",
      "8.8149652126\n",
      "2.47095732058\n",
      "6.72638312488\n",
      "0.492891959824\n",
      "-0.130280516991\n",
      "-0.295479271728\n",
      "-0.295999137637\n",
      "-0.295999148614\n",
      "-0.295999148614\n"
     ]
    }
   ],
   "source": [
    "while np.linalg.norm(x_last - x_cur) > 1e-10:\n",
    "    x_last = x_cur.copy()\n",
    "    print(f(x_cur))\n",
    "    df = np.matrix([[2 * x_cur[0] - x_cur[1] + np.cos(x_cur[0])], [-x_cur[0] + 2 * x_cur[1]]])\n",
    "    H = np.matrix([[2 - np.sin(x_cur[0]), -1], [-1, 2]])\n",
    "    x_cur = x_last - (np.linalg.inv(H) * df).T.A[0, :]"
   ]
  },
  {
   "cell_type": "code",
   "execution_count": 8,
   "metadata": {
    "collapsed": false
   },
   "outputs": [
    {
     "name": "stdout",
     "output_type": "stream",
     "text": [
      "-0.295999148614\n"
     ]
    }
   ],
   "source": [
    "print(f(x_cur))"
   ]
  },
  {
   "cell_type": "code",
   "execution_count": 10,
   "metadata": {
    "collapsed": false
   },
   "outputs": [
    {
     "name": "stdout",
     "output_type": "stream",
     "text": [
      "[-0.5635692 -0.2817846]\n"
     ]
    }
   ],
   "source": [
    "print(x_cur)"
   ]
  },
  {
   "cell_type": "code",
   "execution_count": 11,
   "metadata": {
    "collapsed": false
   },
   "outputs": [
    {
     "data": {
      "text/plain": [
       "5"
      ]
     },
     "execution_count": 11,
     "metadata": {},
     "output_type": "execute_result"
    }
   ],
   "source": [
    "a = np.array([1, 2])\n",
    "b = np.array([1, 2])\n",
    "np.dot(a, b)"
   ]
  },
  {
   "cell_type": "code",
   "execution_count": 73,
   "metadata": {
    "collapsed": false
   },
   "outputs": [],
   "source": [
    "    def w_mp_evaluating(t_matrix, w_mp_c):\n",
    "        print('\\nW_mp Evaluating')\n",
    "#         a = np.matrix(np.diag(self.alpha))\n",
    "        w_mp_old = np.matrix(np.zeros(w_mp_c.shape))\n",
    "        bound = 1e-6\n",
    "\n",
    "        sigma = np.matrix(np.zeros(a.shape))\n",
    "        cur = calc_logproba(w_mp_c)\n",
    "        last = 0\n",
    "        print('LIKELIHOOD', cur)\n",
    "        \n",
    "        n_iteratoin = 0\n",
    "\n",
    "        while np.abs(cur - last) > bound and n_iteratoin < 99: # np.abs(cur - last) > bound: # np.linalg.norm(w_mp_c - w_mp_old) > bound:\n",
    "            n_iteratoin += 1\n",
    "            last = cur\n",
    "            s = []\n",
    "            for i in range(N):\n",
    "                s.append(1 / (1 + np.exp(-(F[i, :] * w_mp_c).A[0][0])))\n",
    "\n",
    "            s = np.array(s)\n",
    "            r = np.matrix(np.diag(s * (1 - s)))\n",
    "            sigma = np.linalg.inv(F.T * r * F + a)\n",
    "            w_mp_old = w_mp_c\n",
    "            \n",
    "            w_mp_c = w_mp_c - 0.5 * sigma * (F.T * (np.matrix(s) - t_matrix).T + a * w_mp_c)\n",
    "#             w_mp_c = sigma * F.T * r * t_matrix.T\n",
    "\n",
    "            cur = calc_logproba(w_mp_c)\n",
    "    \n",
    "            s = []\n",
    "            for i in range(N):\n",
    "                s.append(1 / (1 + np.exp(-(F[i, :] * w_mp_c).A[0][0])))\n",
    "\n",
    "            s = np.array(s)\n",
    "            \n",
    "            print(cur - last, np.linalg.norm((F.T * (np.matrix(s) - t_matrix).T + a * w_mp_c)), cur)\n",
    "\n",
    "        print('LIKELIHOOD', cur)\n",
    "        return w_mp_c\n"
   ]
  },
  {
   "cell_type": "code",
   "execution_count": 13,
   "metadata": {
    "collapsed": true
   },
   "outputs": [],
   "source": [
    "    def calc_logproba(_w):\n",
    "        ans = []\n",
    "        if _w.shape == (2, 1):\n",
    "            _w = [_w]\n",
    "        for w in _w:\n",
    "            t = data_t\n",
    "            logprob = 0\n",
    "            for i in range(len(t)):\n",
    "                a_exp = -(F[i, :] * w).A[0][0]\n",
    "                if t[i] == 1:\n",
    "                    logprob += -np.log(1 + np.exp(a_exp))\n",
    "                else:\n",
    "                    logprob += a_exp - np.log(1 + np.exp(a_exp))\n",
    "            logprob -= 0.5 * (w.T * a * w).A[0][0]\n",
    "            ans.append(-logprob)\n",
    "        return ans[0] if len(ans) == 1 else np.array(ans)\n"
   ]
  },
  {
   "cell_type": "code",
   "execution_count": 69,
   "metadata": {
    "collapsed": true
   },
   "outputs": [],
   "source": [
    "N = 2\n",
    "data_t = np.array([1, 0])\n",
    "t_matrix = np.matrix([[1, 0]])\n",
    "a = np.matrix(np.diag([1, 2]))\n",
    "F = np.matrix([[4, 5], [8, 1]])"
   ]
  },
  {
   "cell_type": "code",
   "execution_count": 15,
   "metadata": {
    "collapsed": false
   },
   "outputs": [
    {
     "data": {
      "text/plain": [
       "matrix([[4, 5],\n",
       "        [8, 1]])"
      ]
     },
     "execution_count": 15,
     "metadata": {},
     "output_type": "execute_result"
    }
   ],
   "source": [
    "F"
   ]
  },
  {
   "cell_type": "code",
   "execution_count": 16,
   "metadata": {
    "collapsed": false
   },
   "outputs": [
    {
     "data": {
      "text/plain": [
       "array([ 82.5       ,   8.51848533])"
      ]
     },
     "execution_count": 16,
     "metadata": {},
     "output_type": "execute_result"
    }
   ],
   "source": [
    "calc_logproba(np.array([np.matrix([[-5], [-5]]), t_matrix.T]))"
   ]
  },
  {
   "cell_type": "code",
   "execution_count": 76,
   "metadata": {
    "collapsed": false,
    "scrolled": true
   },
   "outputs": [
    {
     "name": "stdout",
     "output_type": "stream",
     "text": [
      "\n",
      "W_mp Evaluating\n",
      "LIKELIHOOD 232.5\n",
      "-198.562497098 11.5108522046 33.9375029023\n",
      "-20.3933655948 8.49208068217 13.5441373075\n",
      "-3.98452246265 9.40388526743 9.55961484485\n",
      "8.86893346611 8.66507410293 18.428548311\n",
      "-12.8517315655 8.88502563754 5.57681674544\n",
      "-2.87561355268 5.19353147907 2.70120319276\n",
      "-1.98214235348 1.0882692772 0.719060839284\n",
      "-0.0357629666916 0.518639867754 0.683297872592\n",
      "-0.00730054573263 0.257028155884 0.675997326859\n",
      "-0.00176966279376 0.12824205653 0.674227664066\n",
      "-0.000440524151426 0.0640859630216 0.673787139914\n",
      "-0.000110167122012 0.0320381562416 0.673676972792\n",
      "-2.75626041266e-05 0.0160183562211 0.673649410188\n",
      "-6.89425853673e-06 0.00800905775454 0.67364251593\n",
      "-1.72407799437e-06 0.00400450627844 0.673640791852\n",
      "-4.31087560315e-07 0.00200224842432 0.673640360764\n",
      "LIKELIHOOD 0.673640360764\n"
     ]
    }
   ],
   "source": [
    "w_mp = w_mp_evaluating(t_matrix, np.matrix([[15], [0]]))"
   ]
  },
  {
   "cell_type": "code",
   "execution_count": 50,
   "metadata": {
    "collapsed": false
   },
   "outputs": [],
   "source": [
    "def f(x, y):\n",
    "    return np.log(1 + np.exp(- x * 4 - y * 45 )) + 8*x + y + np.log(1 + np.exp(-8 * x - y)) + 0.5 * x**2 + y**2"
   ]
  },
  {
   "cell_type": "code",
   "execution_count": 51,
   "metadata": {
    "collapsed": false,
    "scrolled": true
   },
   "outputs": [],
   "source": [
    "x = np.linspace(-5, 5, 100)              # points in the x axis\n",
    "y = np.linspace(-5, 5, 100)              # points in the y axis\n",
    "X, Y = np.meshgrid(x, y)                # create the \"base grid\"\n",
    "Z = f(X, Y)\n",
    "\n",
    "#calc_logproba(np.array([np.matrix([[x[i]], [y[i]]]) for i in range(len(x))]))"
   ]
  },
  {
   "cell_type": "code",
   "execution_count": 59,
   "metadata": {
    "collapsed": false,
    "scrolled": false
   },
   "outputs": [
    {
     "data": {
      "text/plain": [
       "<mpl_toolkits.mplot3d.art3d.Path3DCollection at 0x7f89ac48bb38>"
      ]
     },
     "execution_count": 59,
     "metadata": {},
     "output_type": "execute_result"
    },
    {
     "data": {
      "image/png": "[encoded data removed]",
      "text/plain": [
       "<matplotlib.figure.Figure at 0x7f89acccf160>"
      ]
     },
     "metadata": {},
     "output_type": "display_data"
    }
   ],
   "source": [
    "fig = plt.figure()\n",
    "ax = fig.gca(projection='3d')\n",
    "# ax.plot_wireframe(X, Y, Z, rstride=5, cstride=5)\n",
    "\n",
    "\n",
    "surf = ax.plot_surface(X, Y, Z, rstride=1, cstride=1, cmap=cm.coolwarm,\n",
    "                       linewidth=0, antialiased=False)\n",
    "# ax.set_zlim(-1.01, 1.01)\n",
    "\n",
    "ax.zaxis.set_major_locator(LinearLocator(10))\n",
    "ax.zaxis.set_major_formatter(FormatStrFormatter('%.02f'))\n",
    "\n",
    "# fig.colorbar(surf, shrink=0.5, aspect=5)\n",
    "ax.view_init(30, 70)\n",
    "\n",
    "ax.scatter3D([-0.2525252525252526], [0.45454545454545414], -1+calc_logproba(np.matrix([[-0.2525252525252526], [0.45454545454545414]])), c='r')\n"
   ]
  },
  {
   "cell_type": "code",
   "execution_count": 21,
   "metadata": {
    "collapsed": false
   },
   "outputs": [
    {
     "ename": "SyntaxError",
     "evalue": "unexpected EOF while parsing (<ipython-input-21-7695e199b683>, line 1)",
     "output_type": "error",
     "traceback": [
      "\u001b[1;36m  File \u001b[1;32m\"<ipython-input-21-7695e199b683>\"\u001b[1;36m, line \u001b[1;32m1\u001b[0m\n\u001b[1;33m    w = np.matrix([[-6.0060060060060056], [1.2612612612612608]]\u001b[0m\n\u001b[1;37m                                                               ^\u001b[0m\n\u001b[1;31mSyntaxError\u001b[0m\u001b[1;31m:\u001b[0m unexpected EOF while parsing\n"
     ]
    }
   ],
   "source": [
    "w = np.matrix([[-6.0060060060060056], [1.2612612612612608]]"
   ]
  },
  {
   "cell_type": "code",
   "execution_count": 22,
   "metadata": {
    "collapsed": false
   },
   "outputs": [],
   "source": [
    "x, y = -0.2525252525252526, 0.45454545454545414"
   ]
  },
  {
   "cell_type": "code",
   "execution_count": 23,
   "metadata": {
    "collapsed": false
   },
   "outputs": [
    {
     "data": {
      "text/plain": [
       "0.67737990692112071"
      ]
     },
     "execution_count": 23,
     "metadata": {},
     "output_type": "execute_result"
    }
   ],
   "source": [
    "f(x, y)"
   ]
  },
  {
   "cell_type": "code",
   "execution_count": 24,
   "metadata": {
    "collapsed": false
   },
   "outputs": [
    {
     "data": {
      "text/plain": [
       "0.67364021705484589"
      ]
     },
     "execution_count": 24,
     "metadata": {},
     "output_type": "execute_result"
    }
   ],
   "source": [
    "calc_logproba(w_mp)"
   ]
  },
  {
   "cell_type": "code",
   "execution_count": 25,
   "metadata": {
    "collapsed": false,
    "scrolled": true
   },
   "outputs": [
    {
     "data": {
      "text/plain": [
       "(-0.2525252525252526, 0.45454545454545414)"
      ]
     },
     "execution_count": 25,
     "metadata": {},
     "output_type": "execute_result"
    }
   ],
   "source": [
    "X.reshape((100**2, ))[Z.argmin()], Y.reshape((100**2, ))[Z.argmin()]"
   ]
  },
  {
   "cell_type": "code",
   "execution_count": 60,
   "metadata": {
    "collapsed": false
   },
   "outputs": [
    {
     "data": {
      "text/plain": [
       "5146"
      ]
     },
     "execution_count": 60,
     "metadata": {},
     "output_type": "execute_result"
    }
   ],
   "source": [
    "Z.argmin()"
   ]
  },
  {
   "cell_type": "code",
   "execution_count": 61,
   "metadata": {
    "collapsed": false
   },
   "outputs": [
    {
     "data": {
      "text/plain": [
       "0.15646135759214938"
      ]
     },
     "execution_count": 61,
     "metadata": {},
     "output_type": "execute_result"
    }
   ],
   "source": [
    "tmp = Z.reshape((100**2, ))\n",
    "tmp[Z.argmin()]"
   ]
  },
  {
   "cell_type": "code",
   "execution_count": 28,
   "metadata": {
    "collapsed": false
   },
   "outputs": [
    {
     "data": {
      "text/plain": [
       "0.67737990692112071"
      ]
     },
     "execution_count": 28,
     "metadata": {},
     "output_type": "execute_result"
    }
   ],
   "source": [
    "Z.min()"
   ]
  },
  {
   "cell_type": "code",
   "execution_count": 29,
   "metadata": {
    "collapsed": false
   },
   "outputs": [],
   "source": [
    "w_mp_c = np.matrix([[-0.], [0]])"
   ]
  },
  {
   "cell_type": "code",
   "execution_count": 38,
   "metadata": {
    "collapsed": false
   },
   "outputs": [],
   "source": [
    "            s = []\n",
    "            for i in range(N):\n",
    "                s.append(1 / (1 + np.exp(-(F[i, :] * w_mp_c).A[0][0])))\n",
    "\n",
    "            s = np.array(s)\n",
    "            r = np.matrix(np.diag(s * (1 - s)))\n",
    "            sigma = np.linalg.inv(F.T * r * F + a)\n"
   ]
  },
  {
   "cell_type": "code",
   "execution_count": 39,
   "metadata": {
    "collapsed": false,
    "scrolled": true
   },
   "outputs": [
    {
     "data": {
      "text/plain": [
       "matrix([[  5.10638609e-09],\n",
       "        [  5.35560707e-10]])"
      ]
     },
     "execution_count": 39,
     "metadata": {},
     "output_type": "execute_result"
    }
   ],
   "source": [
    "(F.T * (np.matrix(s) - t_matrix).T + a * w_mp_c)"
   ]
  },
  {
   "cell_type": "code",
   "execution_count": 62,
   "metadata": {
    "collapsed": false
   },
   "outputs": [
    {
     "data": {
      "text/plain": [
       "matrix([[-0.3820067 ],\n",
       "        [ 0.14257583]])"
      ]
     },
     "execution_count": 62,
     "metadata": {},
     "output_type": "execute_result"
    }
   ],
   "source": [
    "w_mp_c = w_mp\n",
    "w_mp_c"
   ]
  },
  {
   "cell_type": "code",
   "execution_count": 40,
   "metadata": {
    "collapsed": false
   },
   "outputs": [
    {
     "data": {
      "text/plain": [
       "0.24807795502198005"
      ]
     },
     "execution_count": 40,
     "metadata": {},
     "output_type": "execute_result"
    }
   ],
   "source": [
    "-4 / (1 + np.exp(4*x + 5*y)) + 8 - 8 / (1 + np.exp(8*x + y)) +  x"
   ]
  },
  {
   "cell_type": "code",
   "execution_count": 41,
   "metadata": {
    "collapsed": false
   },
   "outputs": [],
   "source": [
    "w = np.linalg.inv(a) * F.T * (-np.matrix(s) + t_matrix).T"
   ]
  },
  {
   "cell_type": "code",
   "execution_count": 42,
   "metadata": {
    "collapsed": false
   },
   "outputs": [
    {
     "data": {
      "text/plain": [
       "0.67364021705484589"
      ]
     },
     "execution_count": 42,
     "metadata": {},
     "output_type": "execute_result"
    }
   ],
   "source": [
    "calc_logproba(w_mp_c)"
   ]
  },
  {
   "cell_type": "code",
   "execution_count": 43,
   "metadata": {
    "collapsed": false
   },
   "outputs": [
    {
     "data": {
      "text/plain": [
       "matrix([[-0.28126675],\n",
       "        [ 0.47789904]])"
      ]
     },
     "execution_count": 43,
     "metadata": {},
     "output_type": "execute_result"
    }
   ],
   "source": [
    "w"
   ]
  },
  {
   "cell_type": "code",
   "execution_count": null,
   "metadata": {
    "collapsed": true
   },
   "outputs": [],
   "source": []
  },
  {
   "cell_type": "code",
   "execution_count": null,
   "metadata": {
    "collapsed": true
   },
   "outputs": [],
   "source": []
  },
  {
   "cell_type": "code",
   "execution_count": null,
   "metadata": {
    "collapsed": true
   },
   "outputs": [],
   "source": []
  }
 ],
 "metadata": {
  "kernelspec": {
   "display_name": "Python 3",
   "language": "python",
   "name": "python3"
  },
  "language_info": {
   "codemirror_mode": {
    "name": "ipython",
    "version": 3
   },
   "file_extension": ".py",
   "mimetype": "text/x-python",
   "name": "python",
   "nbconvert_exporter": "python",
   "pygments_lexer": "ipython3",
   "version": "3.4.3"
  }
 },
 "nbformat": 4,
 "nbformat_minor": 0
}
