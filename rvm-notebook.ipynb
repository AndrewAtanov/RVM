{
 "cells": [
  {
   "cell_type": "code",
   "execution_count": 2,
   "metadata": {
    "collapsed": true
   },
   "outputs": [],
   "source": [
    "import rvm\n",
    "import numpy as np\n",
    "import matplotlib.pyplot as plt\n",
    "import matplotlib.patches as mpatches\n",
    "%matplotlib inline"
   ]
  },
  {
   "cell_type": "code",
   "execution_count": 53,
   "metadata": {
    "collapsed": true
   },
   "outputs": [],
   "source": [
    "__author__ = 'andrew'\n",
    "import numpy as np\n",
    "\n",
    "\n",
    "class RVMRegression:\n",
    "    \"\"\"RVM Regression class\"\"\"\n",
    "    fitted = False\n",
    "    alpha = None\n",
    "    betta = None\n",
    "    kernel = 'linear'\n",
    "    data_x = None\n",
    "    data_t = None\n",
    "    alpha_bound = 10**12\n",
    "    weight_bound = 10**-6\n",
    "    number_of_iterations = 100\n",
    "    F = None\n",
    "    kernel_m = None\n",
    "    D = 0\n",
    "    w = None\n",
    "    inv_a = None\n",
    "\n",
    "    def __init__(self, alpha=None, betta=None, kernel='linear', coef0=0, gamma=1, degree=2, number_of_iterations=100):\n",
    "        if alpha:\n",
    "            self.alpha = alpha\n",
    "\n",
    "        if betta:\n",
    "            self.betta = betta\n",
    "\n",
    "        self.coef0 = coef0\n",
    "        self.degree = degree\n",
    "        self.gamma = gamma\n",
    "        self.kernel = kernel\n",
    "        self.number_of_iterations = number_of_iterations\n",
    "\n",
    "    def fit(self, x, t):\n",
    "        if len(x) == 0:\n",
    "            raise NameError(\"X array is empty!\")\n",
    "        if len(x) != len(t):\n",
    "            raise NameError(\"Different len X and t\")\n",
    "\n",
    "        self.D = len(x[0])\n",
    "\n",
    "        if self.kernel in ['linear']:\n",
    "            self.kernel_m = len(x[0])\n",
    "\n",
    "        if self.kernel in ['rbf', 'poly']:\n",
    "            self.kernel_m = len(x) + 1\n",
    "\n",
    "        self.data_x = x.copy()\n",
    "        self.data_t = t.copy()\n",
    "\n",
    "        if not self.alpha:\n",
    "            self.alpha = np.array([1.] * self.kernel_m)\n",
    "\n",
    "        if not self.betta:\n",
    "            self.betta = 1\n",
    "\n",
    "        self.create_f()\n",
    "        gamma = np.array([0] * self.kernel_m)\n",
    "        w_mp = None\n",
    "        t_matrix = np.matrix(self.data_t)\n",
    "\n",
    "        for k in range(self.number_of_iterations):\n",
    "            sigma = np.linalg.pinv(self.betta * (self.F.T * self.F) + np.matrix(np.diag(self.alpha)))\n",
    "            w_mp = sigma * self.F.T * (self.betta * t_matrix)\n",
    "            for j in range(self.kernel_m):\n",
    "                if np.abs(w_mp.A[j]) < self.weight_bound or np.abs(self.alpha[j]) > self.alpha_bound:\n",
    "                    w_mp.A[j] = 0\n",
    "                    self.alpha[j] = 10**10\n",
    "                    gamma[j] = 0\n",
    "                else:\n",
    "                    gamma[j] = 1 - self.alpha[j] * sigma.A[j][j]\n",
    "                    self.alpha[j] = gamma[j] / (w_mp.A[j][0] ** 2)\n",
    "\n",
    "            if (np.linalg.norm(t_matrix - self.F * w_mp) ** 2) == 0:\n",
    "                self.betta = 10**10\n",
    "                break\n",
    "            else:\n",
    "                self.betta = (self.D - sum(gamma)) / (np.linalg.norm(t_matrix - self.F * np.matrix(w_mp)) ** 2)\n",
    "\n",
    "        self.w = w_mp\n",
    "\n",
    "    def create_f(self):\n",
    "        self.F = []\n",
    "        for i in range(len(self.data_t)):\n",
    "            self.F.append([self.phi(self.data_x[i], j) for j in range(self.kernel_m)])\n",
    "        self.F = np.matrix(self.F)\n",
    "\n",
    "    def calc_sigma(self):\n",
    "        a = np.matrix(np.diag(self.alpha))\n",
    "        try:\n",
    "            inv_a = np.linalg.inv(a)\n",
    "        except np.linalg.LinAlgError:\n",
    "            inv_a = np.linalg.pinv(a)\n",
    "\n",
    "        self.inv_a = inv_a.copy()\n",
    "        print(self.inv_a)\n",
    "        e = np.matrix(np.diag([1] * a.shape[0]))\n",
    "        tmp_mat = np.linalg.pinv(e + self.betta * self.F * self.inv_a * self.F.T)\n",
    "        return self.inv_a - self.inv_a * self.betta * self.F.T * tmp_mat * self.F * self.inv_a\n",
    "\n",
    "    def get_m(self):\n",
    "        return self.kernel_m\n",
    "        if self.kernel in ['linear', 'poly']:\n",
    "            return len(self.data_x[0])\n",
    "\n",
    "    def phi(self, x, i):\n",
    "        if self.kernel == 'linear':\n",
    "            return x[i]\n",
    "        if self.kernel == 'poly':\n",
    "            if i == self.kernel_m - 1:\n",
    "                return 1\n",
    "            res = self.coef0\n",
    "            for j in range(len(x)):\n",
    "                res += x[j] * self.data_x[i][j]\n",
    "            return res ** self.degree\n",
    "        if self.kernel == 'rbf':\n",
    "            if i == self.kernel_m - 1:\n",
    "                return 1\n",
    "            return np.exp((-1.) * self.gamma * (np.linalg.norm(x - self.data_x[i]) ** 2))\n",
    "\n",
    "    def predict(self, data_x):\n",
    "        if self.w is None:\n",
    "            raise NameError(\"Classifier don't fitted yet!\")\n",
    "        t_ans = []\n",
    "        for x in data_x:\n",
    "            t = 0\n",
    "            for j in range(self.kernel_m):\n",
    "                t += self.w.A[j] * self.phi(x, j)\n",
    "            t_ans.append(t)\n",
    "        return np.array(t_ans)\n",
    "\n",
    "    def validity(self):\n",
    "        e = np.matrix(np.diag([1 / self.betta] * self.kernel_m))\n",
    "        tmp = np.exp(-0.5 * (self.data_t.T * np.linalg.pinv(e + self.F * self.inv_a * self.F.T) * self.data_t))\n",
    "        return  tmp"
   ]
  },
  {
   "cell_type": "code",
   "execution_count": 54,
   "metadata": {
    "collapsed": false
   },
   "outputs": [
    {
     "data": {
      "image/png": "[encoded data removed]"
     },
     "metadata": {},
     "output_type": "display_data"
    }
   ],
   "source": [
    "cl = RVMRegression(kernel='rbf', number_of_iterations=100, gamma=0.5)\n",
    "\n",
    "data_x = np.random.uniform(-4, 4, 70)\n",
    "noise = np.random.normal(0, 0.1, len(data_x))\n",
    "\n",
    "data_y = np.sinc(data_x)\n",
    "\n",
    "data_x = np.sum([data_x, noise], axis=0)\n",
    "noise = np.random.normal(0, 0.05, len(data_x))\n",
    "data_y = np.sum([data_y, noise], axis=0)\n",
    "\n",
    "data_x = np.array([[x] for x in data_x])\n",
    "data_y = np.array([[y] for y in data_y])\n",
    "\n",
    "cl.fit(data_x, data_y)\n",
    "\n",
    "valid_x = np.arange(-4, 4, 0.1)\n",
    "valid_x = [[el] for el in valid_x]\n",
    "valid_y = cl.predict(valid_x)\n",
    "\n",
    "\n",
    "relevance_vectors = {'x':[], 'y':[]}\n",
    "for i in range(len(cl.w) - 1):\n",
    "    if cl.w[i] != 0:\n",
    "        relevance_vectors['x'].append(data_x[i])\n",
    "        relevance_vectors['y'].append(data_y[i])\n",
    "\n",
    "plt.plot(data_x, data_y, 'go')\n",
    "plt.plot(relevance_vectors['x'], relevance_vectors['y'], 'ro')\n",
    "plt.plot(valid_x, valid_y)\n",
    "\n",
    "x = np.arange(-4, 4, 0.1)\n",
    "y = np.sinc(x)\n",
    "plt.plot(x, y, \"y\")\n",
    "\n",
    "\n",
    "sinc = mpatches.Patch(color='y', label='sinc function')\n",
    "rvm_regression = mpatches.Patch(color='b', label='RVMRegression')\n",
    "relevance = mpatches.Patch(color='r', label='Relevance vector')\n",
    "\n",
    "plt.legend(handles=[sinc, rvm_regression, relevance])\n",
    "\n",
    "plt.show()"
   ]
  },
  {
   "cell_type": "code",
   "execution_count": 55,
   "metadata": {
    "collapsed": false
   },
   "outputs": [
    {
     "ename": "TypeError",
     "evalue": "unsupported operand type(s) for *: 'float' and 'NoneType'",
     "output_type": "error",
     "traceback": [
      "\u001b[1;31m---------------------------------------------------------------------------\u001b[0m",
      "\u001b[1;31mTypeError\u001b[0m                                 Traceback (most recent call last)",
      "\u001b[1;32m<ipython-input-55-eeb9e0fc4c0b>\u001b[0m in \u001b[0;36m<module>\u001b[1;34m()\u001b[0m\n\u001b[1;32m----> 1\u001b[1;33m \u001b[0mcl\u001b[0m\u001b[1;33m.\u001b[0m\u001b[0mvalidity\u001b[0m\u001b[1;33m(\u001b[0m\u001b[1;33m)\u001b[0m\u001b[1;33m\u001b[0m\u001b[0m\n\u001b[0m",
      "\u001b[1;32m<ipython-input-53-7dd5d6efcb88>\u001b[0m in \u001b[0;36mvalidity\u001b[1;34m(self)\u001b[0m\n\u001b[0;32m    133\u001b[0m     \u001b[1;32mdef\u001b[0m \u001b[0mvalidity\u001b[0m\u001b[1;33m(\u001b[0m\u001b[0mself\u001b[0m\u001b[1;33m)\u001b[0m\u001b[1;33m:\u001b[0m\u001b[1;33m\u001b[0m\u001b[0m\n\u001b[0;32m    134\u001b[0m         \u001b[0me\u001b[0m \u001b[1;33m=\u001b[0m \u001b[0mnp\u001b[0m\u001b[1;33m.\u001b[0m\u001b[0mmatrix\u001b[0m\u001b[1;33m(\u001b[0m\u001b[0mnp\u001b[0m\u001b[1;33m.\u001b[0m\u001b[0mdiag\u001b[0m\u001b[1;33m(\u001b[0m\u001b[1;33m[\u001b[0m\u001b[1;36m1\u001b[0m \u001b[1;33m/\u001b[0m \u001b[0mself\u001b[0m\u001b[1;33m.\u001b[0m\u001b[0mbetta\u001b[0m\u001b[1;33m]\u001b[0m \u001b[1;33m*\u001b[0m \u001b[0mself\u001b[0m\u001b[1;33m.\u001b[0m\u001b[0mkernel_m\u001b[0m\u001b[1;33m)\u001b[0m\u001b[1;33m)\u001b[0m\u001b[1;33m\u001b[0m\u001b[0m\n\u001b[1;32m--> 135\u001b[1;33m         \u001b[0mtmp\u001b[0m \u001b[1;33m=\u001b[0m \u001b[0mnp\u001b[0m\u001b[1;33m.\u001b[0m\u001b[0mexp\u001b[0m\u001b[1;33m(\u001b[0m\u001b[1;33m-\u001b[0m\u001b[1;36m0.5\u001b[0m \u001b[1;33m*\u001b[0m \u001b[1;33m(\u001b[0m\u001b[0mself\u001b[0m\u001b[1;33m.\u001b[0m\u001b[0mdata_t\u001b[0m\u001b[1;33m.\u001b[0m\u001b[0mT\u001b[0m \u001b[1;33m*\u001b[0m \u001b[0mnp\u001b[0m\u001b[1;33m.\u001b[0m\u001b[0mlinalg\u001b[0m\u001b[1;33m.\u001b[0m\u001b[0mpinv\u001b[0m\u001b[1;33m(\u001b[0m\u001b[0me\u001b[0m \u001b[1;33m+\u001b[0m \u001b[0mself\u001b[0m\u001b[1;33m.\u001b[0m\u001b[0mF\u001b[0m \u001b[1;33m*\u001b[0m \u001b[0mself\u001b[0m\u001b[1;33m.\u001b[0m\u001b[0minv_a\u001b[0m \u001b[1;33m*\u001b[0m \u001b[0mself\u001b[0m\u001b[1;33m.\u001b[0m\u001b[0mF\u001b[0m\u001b[1;33m.\u001b[0m\u001b[0mT\u001b[0m\u001b[1;33m)\u001b[0m \u001b[1;33m*\u001b[0m \u001b[0mself\u001b[0m\u001b[1;33m.\u001b[0m\u001b[0mdata_t\u001b[0m\u001b[1;33m)\u001b[0m\u001b[1;33m)\u001b[0m\u001b[1;33m\u001b[0m\u001b[0m\n\u001b[0m\u001b[0;32m    136\u001b[0m         \u001b[1;32mreturn\u001b[0m  \u001b[0mtmp\u001b[0m\u001b[1;33m\u001b[0m\u001b[0m\n",
      "\u001b[1;32m/home/andrew/anaconda3/lib/python3.5/site-packages/numpy/matrixlib/defmatrix.py\u001b[0m in \u001b[0;36m__mul__\u001b[1;34m(self, other)\u001b[0m\n\u001b[0;32m    343\u001b[0m             \u001b[1;32mreturn\u001b[0m \u001b[0mN\u001b[0m\u001b[1;33m.\u001b[0m\u001b[0mdot\u001b[0m\u001b[1;33m(\u001b[0m\u001b[0mself\u001b[0m\u001b[1;33m,\u001b[0m \u001b[0masmatrix\u001b[0m\u001b[1;33m(\u001b[0m\u001b[0mother\u001b[0m\u001b[1;33m)\u001b[0m\u001b[1;33m)\u001b[0m\u001b[1;33m\u001b[0m\u001b[0m\n\u001b[0;32m    344\u001b[0m         \u001b[1;32mif\u001b[0m \u001b[0misscalar\u001b[0m\u001b[1;33m(\u001b[0m\u001b[0mother\u001b[0m\u001b[1;33m)\u001b[0m \u001b[1;32mor\u001b[0m \u001b[1;32mnot\u001b[0m \u001b[0mhasattr\u001b[0m\u001b[1;33m(\u001b[0m\u001b[0mother\u001b[0m\u001b[1;33m,\u001b[0m \u001b[1;34m'__rmul__'\u001b[0m\u001b[1;33m)\u001b[0m \u001b[1;33m:\u001b[0m\u001b[1;33m\u001b[0m\u001b[0m\n\u001b[1;32m--> 345\u001b[1;33m             \u001b[1;32mreturn\u001b[0m \u001b[0mN\u001b[0m\u001b[1;33m.\u001b[0m\u001b[0mdot\u001b[0m\u001b[1;33m(\u001b[0m\u001b[0mself\u001b[0m\u001b[1;33m,\u001b[0m \u001b[0mother\u001b[0m\u001b[1;33m)\u001b[0m\u001b[1;33m\u001b[0m\u001b[0m\n\u001b[0m\u001b[0;32m    346\u001b[0m         \u001b[1;32mreturn\u001b[0m \u001b[0mNotImplemented\u001b[0m\u001b[1;33m\u001b[0m\u001b[0m\n\u001b[0;32m    347\u001b[0m \u001b[1;33m\u001b[0m\u001b[0m\n",
      "\u001b[1;31mTypeError\u001b[0m: unsupported operand type(s) for *: 'float' and 'NoneType'"
     ]
    }
   ],
   "source": [
    "cl.validity()"
   ]
  },
  {
   "cell_type": "code",
   "execution_count": 57,
   "metadata": {
    "collapsed": false
   },
   "outputs": [
    {
     "name": "stdout",
     "output_type": "stream",
     "text": [
      "None\n"
     ]
    }
   ],
   "source": [
    "print(cl.inv_a)"
   ]
  },
  {
   "cell_type": "code",
   "execution_count": null,
   "metadata": {
    "collapsed": true
   },
   "outputs": [],
   "source": []
  }
 ],
 "metadata": {
  "kernelspec": {
   "display_name": "Python 3",
   "language": "python",
   "name": "python3"
  },
  "language_info": {
   "codemirror_mode": {
    "name": "ipython",
    "version": 3
   },
   "file_extension": ".py",
   "mimetype": "text/x-python",
   "name": "python",
   "nbconvert_exporter": "python",
   "pygments_lexer": "ipython3",
   "version": "3.4.3"
  }
 },
 "nbformat": 4,
 "nbformat_minor": 0
}
